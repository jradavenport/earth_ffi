{
 "cells": [
  {
   "cell_type": "code",
   "execution_count": 5,
   "metadata": {
    "collapsed": true
   },
   "outputs": [],
   "source": [
    "%matplotlib inline\n",
    "import numpy as np\n",
    "\n",
    "from astropy.io import fits\n",
    "from astropy.wcs import WCS\n",
    "import reproject\n",
    "from reproject import mosaicking\n",
    "# from astropy.visualization.wcsaxes import WCSAxesSubplot\n",
    "\n",
    "import matplotlib.pyplot as plt\n",
    "import matplotlib.cm as cm\n",
    "import matplotlib\n",
    "matplotlib.rcParams.update({'font.size':18})\n",
    "matplotlib.rcParams.update({'font.family':'serif'})"
   ]
  },
  {
   "cell_type": "code",
   "execution_count": 2,
   "metadata": {
    "collapsed": true
   },
   "outputs": [],
   "source": [
    "file = 'kplr2017344214411_ffi-orig.fits' \n",
    "# available online: https-//keplerscience.arc.nasa.gov/images/K2-C16-FFI-with-Earth.fits.gz"
   ]
  },
  {
   "cell_type": "code",
   "execution_count": 3,
   "metadata": {
    "collapsed": true
   },
   "outputs": [],
   "source": [
    "hdu = fits.open(file)"
   ]
  },
  {
   "cell_type": "code",
   "execution_count": 7,
   "metadata": {
    "scrolled": true
   },
   "outputs": [
    {
     "name": "stdout",
     "output_type": "stream",
     "text": [
      "Filename: kplr2017344214411_ffi-orig.fits\n",
      "No.    Name      Ver    Type      Cards   Dimensions   Format\n",
      "  0  PRIMARY       1 PrimaryHDU     195   ()      \n",
      "  1  CHANNEL       1 ImageHDU        75   (1132, 1070)   int32   \n",
      "  2  CHANNEL       2 ImageHDU        75   (1132, 1070)   int32   \n",
      "  3  CHANNEL       3 ImageHDU        75   (1132, 1070)   int32   \n",
      "  4  CHANNEL       4 ImageHDU        75   (1132, 1070)   int32   \n",
      "  5  CHANNEL       5 ImageHDU        75   (1132, 1070)   int32   \n",
      "  6  CHANNEL       6 ImageHDU        75   (1132, 1070)   int32   \n",
      "  7  CHANNEL       7 ImageHDU        75   (1132, 1070)   int32   \n",
      "  8  CHANNEL       8 ImageHDU        75   (1132, 1070)   int32   \n",
      "  9  CHANNEL       9 ImageHDU        75   (1132, 1070)   int32   \n",
      " 10  CHANNEL      10 ImageHDU        75   (1132, 1070)   int32   \n",
      " 11  CHANNEL      11 ImageHDU        75   (1132, 1070)   int32   \n",
      " 12  CHANNEL      12 ImageHDU        75   (1132, 1070)   int32   \n",
      " 13  CHANNEL      13 ImageHDU        75   (1132, 1070)   int32   \n",
      " 14  CHANNEL      14 ImageHDU        75   (1132, 1070)   int32   \n",
      " 15  CHANNEL      15 ImageHDU        75   (1132, 1070)   int32   \n",
      " 16  CHANNEL      16 ImageHDU        75   (1132, 1070)   int32   \n",
      " 17  CHANNEL      17 ImageHDU        75   (1132, 1070)   int32   \n",
      " 18  CHANNEL      18 ImageHDU        75   (1132, 1070)   int32   \n",
      " 19  CHANNEL      19 ImageHDU        75   (1132, 1070)   int32   \n",
      " 20  CHANNEL      20 ImageHDU        75   (1132, 1070)   int32   \n",
      " 21  CHANNEL      21 ImageHDU        75   (1132, 1070)   int32   \n",
      " 22  CHANNEL      22 ImageHDU        75   (1132, 1070)   int32   \n",
      " 23  CHANNEL      23 ImageHDU        75   (1132, 1070)   int32   \n",
      " 24  CHANNEL      24 ImageHDU        75   (1132, 1070)   int32   \n",
      " 25  CHANNEL      25 ImageHDU        75   (1132, 1070)   int32   \n",
      " 26  CHANNEL      26 ImageHDU        75   (1132, 1070)   int32   \n",
      " 27  CHANNEL      27 ImageHDU        75   (1132, 1070)   int32   \n",
      " 28  CHANNEL      28 ImageHDU        75   (1132, 1070)   int32   \n",
      " 29  CHANNEL      29 ImageHDU        75   (1132, 1070)   int32   \n",
      " 30  CHANNEL      30 ImageHDU        75   (1132, 1070)   int32   \n",
      " 31  CHANNEL      31 ImageHDU        75   (1132, 1070)   int32   \n",
      " 32  CHANNEL      32 ImageHDU        75   (1132, 1070)   int32   \n",
      " 33  CHANNEL      33 ImageHDU        75   (1132, 1070)   int32   \n",
      " 34  CHANNEL      34 ImageHDU        75   (1132, 1070)   int32   \n",
      " 35  CHANNEL      35 ImageHDU        75   (1132, 1070)   int32   \n",
      " 36  CHANNEL      36 ImageHDU        75   (1132, 1070)   int32   \n",
      " 37  CHANNEL      37 ImageHDU        75   (1132, 1070)   int32   \n",
      " 38  CHANNEL      38 ImageHDU        75   (1132, 1070)   int32   \n",
      " 39  CHANNEL      39 ImageHDU        75   (1132, 1070)   int32   \n",
      " 40  CHANNEL      40 ImageHDU        75   (1132, 1070)   int32   \n",
      " 41  CHANNEL      41 ImageHDU        75   (1132, 1070)   int32   \n",
      " 42  CHANNEL      42 ImageHDU        75   (1132, 1070)   int32   \n",
      " 43  CHANNEL      43 ImageHDU        75   (1132, 1070)   int32   \n",
      " 44  CHANNEL      44 ImageHDU        75   (1132, 1070)   int32   \n",
      " 45  CHANNEL      45 ImageHDU        75   (1132, 1070)   int32   \n",
      " 46  CHANNEL      46 ImageHDU        75   (1132, 1070)   int32   \n",
      " 47  CHANNEL      47 ImageHDU        75   (1132, 1070)   int32   \n",
      " 48  CHANNEL      48 ImageHDU        75   (1132, 1070)   int32   \n",
      " 49  CHANNEL      49 ImageHDU        75   (1132, 1070)   int32   \n",
      " 50  CHANNEL      50 ImageHDU        75   (1132, 1070)   int32   \n",
      " 51  CHANNEL      51 ImageHDU        75   (1132, 1070)   int32   \n",
      " 52  CHANNEL      52 ImageHDU        75   (1132, 1070)   int32   \n",
      " 53  CHANNEL      53 ImageHDU        75   (1132, 1070)   int32   \n",
      " 54  CHANNEL      54 ImageHDU        75   (1132, 1070)   int32   \n",
      " 55  CHANNEL      55 ImageHDU        75   (1132, 1070)   int32   \n",
      " 56  CHANNEL      56 ImageHDU        75   (1132, 1070)   int32   \n",
      " 57  CHANNEL      57 ImageHDU        75   (1132, 1070)   int32   \n",
      " 58  CHANNEL      58 ImageHDU        75   (1132, 1070)   int32   \n",
      " 59  CHANNEL      59 ImageHDU        75   (1132, 1070)   int32   \n",
      " 60  CHANNEL      60 ImageHDU        75   (1132, 1070)   int32   \n",
      " 61  CHANNEL      61 ImageHDU        75   (1132, 1070)   int32   \n",
      " 62  CHANNEL      62 ImageHDU        75   (1132, 1070)   int32   \n",
      " 63  CHANNEL      63 ImageHDU        75   (1132, 1070)   int32   \n",
      " 64  CHANNEL      64 ImageHDU        75   (1132, 1070)   int32   \n",
      " 65  CHANNEL      65 ImageHDU        75   (1132, 1070)   int32   \n",
      " 66  CHANNEL      66 ImageHDU        75   (1132, 1070)   int32   \n",
      " 67  CHANNEL      67 ImageHDU        75   (1132, 1070)   int32   \n",
      " 68  CHANNEL      68 ImageHDU        75   (1132, 1070)   int32   \n",
      " 69  CHANNEL      69 ImageHDU        75   (1132, 1070)   int32   \n",
      " 70  CHANNEL      70 ImageHDU        75   (1132, 1070)   int32   \n",
      " 71  CHANNEL      71 ImageHDU        75   (1132, 1070)   int32   \n",
      " 72  CHANNEL      72 ImageHDU        75   (1132, 1070)   int32   \n",
      " 73  CHANNEL      73 ImageHDU        75   (1132, 1070)   int32   \n",
      " 74  CHANNEL      74 ImageHDU        75   (1132, 1070)   int32   \n",
      " 75  CHANNEL      75 ImageHDU        75   (1132, 1070)   int32   \n",
      " 76  CHANNEL      76 ImageHDU        75   (1132, 1070)   int32   \n",
      " 77  CHANNEL      77 ImageHDU        75   (1132, 1070)   int32   \n",
      " 78  CHANNEL      78 ImageHDU        75   (1132, 1070)   int32   \n",
      " 79  CHANNEL      79 ImageHDU        75   (1132, 1070)   int32   \n",
      " 80  CHANNEL      80 ImageHDU        75   (1132, 1070)   int32   \n",
      " 81  CHANNEL      81 ImageHDU        75   (1132, 1070)   int32   \n",
      " 82  CHANNEL      82 ImageHDU        75   (1132, 1070)   int32   \n",
      " 83  CHANNEL      83 ImageHDU        75   (1132, 1070)   int32   \n",
      " 84  CHANNEL      84 ImageHDU        75   (1132, 1070)   int32   \n"
     ]
    }
   ],
   "source": [
    "hdu.info()"
   ]
  },
  {
   "cell_type": "code",
   "execution_count": 26,
   "metadata": {},
   "outputs": [],
   "source": [
    "wcs_abs, shp = mosaicking.find_optimal_celestial_wcs(hdu[1:])\n",
    "shp"
   ]
  },
  {
   "cell_type": "code",
   "execution_count": 34,
   "metadata": {},
   "outputs": [
    {
     "data": {
      "text/plain": [
       "WCS Keywords\n",
       "\n",
       "Number of WCS axes: 2\n",
       "CTYPE : 'RA---TAN'  'DEC--TAN'  \n",
       "CRVAL : 133.70999995361703  18.525399093689124  \n",
       "CRPIX : 7086.0031989675581  7057.3384974443752  \n",
       "PC1_1 PC1_2  : 1.0  0.0  \n",
       "PC2_1 PC2_2  : 0.0  1.0  \n",
       "CDELT : -0.0011056513611304101  0.0011056513611304101  \n",
       "NAXIS : 0  0"
      ]
     },
     "execution_count": 34,
     "metadata": {},
     "output_type": "execute_result"
    }
   ],
   "source": [
    "wcs_abs"
   ]
  },
  {
   "cell_type": "code",
   "execution_count": null,
   "metadata": {
    "collapsed": true
   },
   "outputs": [],
   "source": [
    "array_final, footprint_final = reproject.reproject_interp((hdu[1].data, hdu[1].header), wcs_abs, shape_out=shp)\n",
    "\n",
    "for k in range(2,len(hdu)):\n",
    "    array, footprint = reproject.reproject_interp((hdu[k].data, hdu[k].header), wcs_abs, shape_out=shp)\n",
    "    array_final[np.isfinite(array)] = array[np.isfinite(array)]"
   ]
  },
  {
   "cell_type": "code",
   "execution_count": null,
   "metadata": {
    "scrolled": false
   },
   "outputs": [],
   "source": [
    "fig = plt.figure(figsize=(20,20))\n",
    "ax = plt.subplot(111,projection=wcs_abs)\n",
    "plt.imshow(np.log10(array), origin='lower', cmap=cm.Greys)\n",
    "\n",
    "ax.grid(color='white', ls='solid')\n",
    "# plt.xlabel('RA (deg)')\n",
    "# plt.ylabel('Dec (deg)')\n",
    "plt.savefig('mosaic.png', dpi=150, bbox_inches='tight', pad_inches=0.25)"
   ]
  },
  {
   "cell_type": "code",
   "execution_count": null,
   "metadata": {
    "collapsed": true
   },
   "outputs": [],
   "source": []
  }
 ],
 "metadata": {
  "kernelspec": {
   "display_name": "Python [Root]",
   "language": "python",
   "name": "Python [Root]"
  },
  "language_info": {
   "codemirror_mode": {
    "name": "ipython",
    "version": 2
   },
   "file_extension": ".py",
   "mimetype": "text/x-python",
   "name": "python",
   "nbconvert_exporter": "python",
   "pygments_lexer": "ipython2",
   "version": "2.7.13"
  }
 },
 "nbformat": 4,
 "nbformat_minor": 2
}
